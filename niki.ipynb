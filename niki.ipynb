{
 "cells": [
  {
   "cell_type": "code",
   "execution_count": 12,
   "metadata": {},
   "outputs": [
    {
     "name": "stdout",
     "output_type": "stream",
     "text": [
      "[nltk_data] Downloading package stopwords to\n",
      "[nltk_data]     /Users/himani/nltk_data...\n",
      "[nltk_data]   Unzipping corpora/stopwords.zip.\n",
      "[nltk_data] Downloading package wordnet to /Users/himani/nltk_data...\n",
      "[nltk_data]   Package wordnet is already up-to-date!\n"
     ]
    },
    {
     "data": {
      "text/plain": [
       "True"
      ]
     },
     "execution_count": 12,
     "metadata": {},
     "output_type": "execute_result"
    }
   ],
   "source": [
    "# libraries\n",
    "import pandas as pd\n",
    "import numpy as np\n",
    "import nltk\n",
    "# from nltk.corpus import stopwords\n",
    "from nltk.stem.wordnet import WordNetLemmatizer\n",
    "from nltk.tag import pos_tag\n",
    "import string\n",
    "import spacy\n",
    "import en_core_web_sm\n",
    "import re\n",
    "import seaborn as sns\n",
    "import matplotlib.pyplot as plt\n",
    "%matplotlib inline\n",
    "nlp = en_core_web_sm.load()\n",
    "\n",
    "# python3 -m spacy download en\n",
    "\n",
    "# download stopwords and wordnet and punctuations\n",
    "\n",
    "# nltk.download(\"stopwords\")\n",
    "# nltk.download(\"wordnet\")\n",
    "nltk.download(\"punkt\")"
   ]
  },
  {
   "cell_type": "code",
   "execution_count": 26,
   "metadata": {},
   "outputs": [
    {
     "name": "stderr",
     "output_type": "stream",
     "text": [
      "/usr/local/lib/python3.6/site-packages/ipykernel_launcher.py:3: ParserWarning: Falling back to the 'python' engine because the 'c' engine does not support regex separators (separators > 1 char and different from '\\s+' are interpreted as regex); you can avoid this warning by specifying engine='python'.\n",
      "  This is separate from the ipykernel package so we can avoid doing imports until\n"
     ]
    },
    {
     "data": {
      "text/html": [
       "<div>\n",
       "<style scoped>\n",
       "    .dataframe tbody tr th:only-of-type {\n",
       "        vertical-align: middle;\n",
       "    }\n",
       "\n",
       "    .dataframe tbody tr th {\n",
       "        vertical-align: top;\n",
       "    }\n",
       "\n",
       "    .dataframe thead th {\n",
       "        text-align: right;\n",
       "    }\n",
       "</style>\n",
       "<table border=\"1\" class=\"dataframe\">\n",
       "  <thead>\n",
       "    <tr style=\"text-align: right;\">\n",
       "      <th></th>\n",
       "      <th>questions</th>\n",
       "      <th>labels</th>\n",
       "    </tr>\n",
       "  </thead>\n",
       "  <tbody>\n",
       "    <tr>\n",
       "      <th>0</th>\n",
       "      <td>how did serfdom develop in and then leave russ...</td>\n",
       "      <td>unknown</td>\n",
       "    </tr>\n",
       "    <tr>\n",
       "      <th>1</th>\n",
       "      <td>what films featured the character popeye doyle ?</td>\n",
       "      <td>what</td>\n",
       "    </tr>\n",
       "    <tr>\n",
       "      <th>2</th>\n",
       "      <td>how can i find a list of celebrities ' real na...</td>\n",
       "      <td>unknown</td>\n",
       "    </tr>\n",
       "    <tr>\n",
       "      <th>3</th>\n",
       "      <td>what fowl grabs the spotlight after the chines...</td>\n",
       "      <td>what</td>\n",
       "    </tr>\n",
       "    <tr>\n",
       "      <th>4</th>\n",
       "      <td>what is the full form of .com ?</td>\n",
       "      <td>what</td>\n",
       "    </tr>\n",
       "  </tbody>\n",
       "</table>\n",
       "</div>"
      ],
      "text/plain": [
       "                                           questions    labels\n",
       "0  how did serfdom develop in and then leave russ...   unknown\n",
       "1  what films featured the character popeye doyle ?       what\n",
       "2  how can i find a list of celebrities ' real na...   unknown\n",
       "3  what fowl grabs the spotlight after the chines...      what\n",
       "4                   what is the full form of .com ?       what"
      ]
     },
     "execution_count": 26,
     "metadata": {},
     "output_type": "execute_result"
    }
   ],
   "source": [
    "## read raw file\n",
    "\n",
    "raw_file = pd.read_csv(\"LabelledData (1).txt\", sep = \",,,\", header = None)\n",
    "raw_file.columns = ['questions','labels']\n",
    "raw_file.head()"
   ]
  },
  {
   "cell_type": "code",
   "execution_count": 25,
   "metadata": {},
   "outputs": [
    {
     "data": {
      "text/plain": [
       "Text(0,0.5,'Frequency')"
      ]
     },
     "execution_count": 25,
     "metadata": {},
     "output_type": "execute_result"
    },
    {
     "data": {
      "image/png": "[encoded data removed]",
      "text/plain": [
       "<matplotlib.figure.Figure at 0x117a26630>"
      ]
     },
     "metadata": {},
     "output_type": "display_data"
    }
   ],
   "source": [
    "### distribution of levels in labels in training set\n",
    "\n",
    "sns.set_color_codes()\n",
    "\n",
    "fig, ax1 = plt.subplots(1,1, figsize = (18,6))\n",
    "\n",
    "sns.countplot('labels', data = raw_file,palette=\"Set2\", ax = ax1)\n",
    "ax1.set_xlabel(\"labels\", size = 15)\n",
    "ax1.set_ylabel(\"Frequency\", size = 15)"
   ]
  },
  {
   "cell_type": "code",
   "execution_count": 34,
   "metadata": {},
   "outputs": [
    {
     "data": {
      "text/html": [
       "<div>\n",
       "<style scoped>\n",
       "    .dataframe tbody tr th:only-of-type {\n",
       "        vertical-align: middle;\n",
       "    }\n",
       "\n",
       "    .dataframe tbody tr th {\n",
       "        vertical-align: top;\n",
       "    }\n",
       "\n",
       "    .dataframe thead th {\n",
       "        text-align: right;\n",
       "    }\n",
       "</style>\n",
       "<table border=\"1\" class=\"dataframe\">\n",
       "  <thead>\n",
       "    <tr style=\"text-align: right;\">\n",
       "      <th></th>\n",
       "      <th>questions</th>\n",
       "      <th>labels</th>\n",
       "      <th>clean_ques</th>\n",
       "    </tr>\n",
       "  </thead>\n",
       "  <tbody>\n",
       "    <tr>\n",
       "      <th>0</th>\n",
       "      <td>how did serfdom develop in and then leave russ...</td>\n",
       "      <td>unknown</td>\n",
       "      <td>how did serfdom develop in and then leave russia</td>\n",
       "    </tr>\n",
       "    <tr>\n",
       "      <th>1</th>\n",
       "      <td>what films featured the character popeye doyle ?</td>\n",
       "      <td>what</td>\n",
       "      <td>what film featured the character popeye doyle</td>\n",
       "    </tr>\n",
       "    <tr>\n",
       "      <th>2</th>\n",
       "      <td>how can i find a list of celebrities ' real na...</td>\n",
       "      <td>unknown</td>\n",
       "      <td>how can i find a list of celebrity real name</td>\n",
       "    </tr>\n",
       "    <tr>\n",
       "      <th>3</th>\n",
       "      <td>what fowl grabs the spotlight after the chines...</td>\n",
       "      <td>what</td>\n",
       "      <td>what fowl grab the spotlight after the chinese...</td>\n",
       "    </tr>\n",
       "    <tr>\n",
       "      <th>4</th>\n",
       "      <td>what is the full form of .com ?</td>\n",
       "      <td>what</td>\n",
       "      <td>what is the full form of com</td>\n",
       "    </tr>\n",
       "  </tbody>\n",
       "</table>\n",
       "</div>"
      ],
      "text/plain": [
       "                                           questions    labels  \\\n",
       "0  how did serfdom develop in and then leave russ...   unknown   \n",
       "1  what films featured the character popeye doyle ?       what   \n",
       "2  how can i find a list of celebrities ' real na...   unknown   \n",
       "3  what fowl grabs the spotlight after the chines...      what   \n",
       "4                   what is the full form of .com ?       what   \n",
       "\n",
       "                                          clean_ques  \n",
       "0   how did serfdom develop in and then leave russia  \n",
       "1      what film featured the character popeye doyle  \n",
       "2       how can i find a list of celebrity real name  \n",
       "3  what fowl grab the spotlight after the chinese...  \n",
       "4                       what is the full form of com  "
      ]
     },
     "execution_count": 34,
     "metadata": {},
     "output_type": "execute_result"
    }
   ],
   "source": [
    "## clean questions\n",
    "\n",
    "lemma = WordNetLemmatizer()\n",
    "def clean_tokenize(document):\n",
    "    document = re.sub('[^\\w_\\s-]', ' ',document)       #remove punctuation marks and other symbols\n",
    "    tokens = nltk.word_tokenize(document)              #Tokenize sentences\n",
    "    cleaned_article = \" \".join(lemma.lemmatize(item) for item in tokens)\n",
    "    return cleaned_article\n",
    "\n",
    "raw_file['clean_ques'] = raw_file['questions'].apply(clean_tokenize)\n",
    "raw_file.head()"
   ]
  },
  {
   "cell_type": "markdown",
   "metadata": {},
   "source": [
    "### Create features from questions\n",
    "- WH-word\n",
    "- WH word POS\n",
    "- pos of word next to WH word\n",
    "- Root POS: The part of speech of the word at the root of the dependency parse tree."
   ]
  },
  {
   "cell_type": "code",
   "execution_count": 37,
   "metadata": {},
   "outputs": [
    {
     "data": {
      "text/plain": [
       "'how did serfdom develop in and then leave russia'"
      ]
     },
     "execution_count": 37,
     "metadata": {},
     "output_type": "execute_result"
    }
   ],
   "source": [
    "raw_file['clean_ques'][0]"
   ]
  },
  {
   "cell_type": "code",
   "execution_count": 41,
   "metadata": {},
   "outputs": [],
   "source": [
    "nlp = en_core_web_sm.load()"
   ]
  },
  {
   "cell_type": "code",
   "execution_count": 59,
   "metadata": {},
   "outputs": [],
   "source": [
    "x = nlp(raw_file['clean_ques'][1])"
   ]
  },
  {
   "cell_type": "code",
   "execution_count": 60,
   "metadata": {},
   "outputs": [
    {
     "data": {
      "text/plain": [
       "[what film featured the character popeye doyle]"
      ]
     },
     "execution_count": 60,
     "metadata": {},
     "output_type": "execute_result"
    }
   ],
   "source": [
    "list(x.sents)"
   ]
  },
  {
   "cell_type": "code",
   "execution_count": 61,
   "metadata": {},
   "outputs": [
    {
     "data": {
      "text/plain": [
       "{83: 'ADJ', 89: 'DET', 91: 'NOUN', 99: 'VERB'}"
      ]
     },
     "execution_count": 61,
     "metadata": {},
     "output_type": "execute_result"
    }
   ],
   "source": [
    "tags = {w.pos: w.pos_ for w in x}\n",
    "tags"
   ]
  },
  {
   "cell_type": "code",
   "execution_count": 62,
   "metadata": {},
   "outputs": [
    {
     "name": "stdout",
     "output_type": "stream",
     "text": [
      "what ADJ\n",
      "film NOUN\n",
      "featured VERB\n",
      "the DET\n",
      "character NOUN\n",
      "popeye NOUN\n",
      "doyle NOUN\n"
     ]
    }
   ],
   "source": [
    "for word in list(x.sents)[0]:\n",
    "    print(word, word.pos_)"
   ]
  },
  {
   "cell_type": "code",
   "execution_count": 96,
   "metadata": {},
   "outputs": [
    {
     "data": {
      "text/html": [
       "<div>\n",
       "<style scoped>\n",
       "    .dataframe tbody tr th:only-of-type {\n",
       "        vertical-align: middle;\n",
       "    }\n",
       "\n",
       "    .dataframe tbody tr th {\n",
       "        vertical-align: top;\n",
       "    }\n",
       "\n",
       "    .dataframe thead th {\n",
       "        text-align: right;\n",
       "    }\n",
       "</style>\n",
       "<table border=\"1\" class=\"dataframe\">\n",
       "  <thead>\n",
       "    <tr style=\"text-align: right;\">\n",
       "      <th></th>\n",
       "      <th>root_token</th>\n",
       "      <th>wh_bi_gram</th>\n",
       "      <th>wh_nbor_pos</th>\n",
       "      <th>wh_pos</th>\n",
       "      <th>wh_word</th>\n",
       "    </tr>\n",
       "  </thead>\n",
       "  <tbody>\n",
       "    <tr>\n",
       "      <th>0</th>\n",
       "      <td>VB</td>\n",
       "      <td>[how, did]</td>\n",
       "      <td>VBD</td>\n",
       "      <td>WRB</td>\n",
       "      <td>how</td>\n",
       "    </tr>\n",
       "    <tr>\n",
       "      <th>1</th>\n",
       "      <td>VBD</td>\n",
       "      <td>[what, film]</td>\n",
       "      <td>NN</td>\n",
       "      <td>WDT</td>\n",
       "      <td>what</td>\n",
       "    </tr>\n",
       "    <tr>\n",
       "      <th>2</th>\n",
       "      <td>VB</td>\n",
       "      <td>[how, can]</td>\n",
       "      <td>MD</td>\n",
       "      <td>WRB</td>\n",
       "      <td>how</td>\n",
       "    </tr>\n",
       "    <tr>\n",
       "      <th>3</th>\n",
       "      <td>VBP</td>\n",
       "      <td>[what, fowl]</td>\n",
       "      <td>NN</td>\n",
       "      <td>WDT</td>\n",
       "      <td>what</td>\n",
       "    </tr>\n",
       "    <tr>\n",
       "      <th>4</th>\n",
       "      <td>VBZ</td>\n",
       "      <td>[what, is]</td>\n",
       "      <td>VBZ</td>\n",
       "      <td>WP</td>\n",
       "      <td>what</td>\n",
       "    </tr>\n",
       "    <tr>\n",
       "      <th>5</th>\n",
       "      <td>VBD</td>\n",
       "      <td>[what, contemptible]</td>\n",
       "      <td>JJ</td>\n",
       "      <td>WP</td>\n",
       "      <td>what</td>\n",
       "    </tr>\n",
       "    <tr>\n",
       "      <th>6</th>\n",
       "      <td>VBD</td>\n",
       "      <td>[what, team]</td>\n",
       "      <td>NN</td>\n",
       "      <td>WDT</td>\n",
       "      <td>what</td>\n",
       "    </tr>\n",
       "    <tr>\n",
       "      <th>7</th>\n",
       "      <td>VBZ</td>\n",
       "      <td>[what, is]</td>\n",
       "      <td>VBZ</td>\n",
       "      <td>WP</td>\n",
       "      <td>what</td>\n",
       "    </tr>\n",
       "    <tr>\n",
       "      <th>8</th>\n",
       "      <td>VBP</td>\n",
       "      <td>[what, are]</td>\n",
       "      <td>VBP</td>\n",
       "      <td>WP</td>\n",
       "      <td>what</td>\n",
       "    </tr>\n",
       "    <tr>\n",
       "      <th>9</th>\n",
       "      <td>VB</td>\n",
       "      <td>[]</td>\n",
       "      <td></td>\n",
       "      <td></td>\n",
       "      <td></td>\n",
       "    </tr>\n",
       "    <tr>\n",
       "      <th>10</th>\n",
       "      <td>VBP</td>\n",
       "      <td>[when, wa, wa, ozzy]</td>\n",
       "      <td>VBP</td>\n",
       "      <td>WDT</td>\n",
       "      <td>wa</td>\n",
       "    </tr>\n",
       "    <tr>\n",
       "      <th>11</th>\n",
       "      <td>RB</td>\n",
       "      <td>[why, do]</td>\n",
       "      <td>VBP</td>\n",
       "      <td>WRB</td>\n",
       "      <td>why</td>\n",
       "    </tr>\n",
       "    <tr>\n",
       "      <th>12</th>\n",
       "      <td>WP</td>\n",
       "      <td>[who, wa]</td>\n",
       "      <td>IN</td>\n",
       "      <td>WP</td>\n",
       "      <td>who</td>\n",
       "    </tr>\n",
       "    <tr>\n",
       "      <th>13</th>\n",
       "      <td>VBD</td>\n",
       "      <td>[who, killed]</td>\n",
       "      <td>VBD</td>\n",
       "      <td>WP</td>\n",
       "      <td>who</td>\n",
       "    </tr>\n",
       "    <tr>\n",
       "      <th>14</th>\n",
       "      <td>VBN</td>\n",
       "      <td>[what, is]</td>\n",
       "      <td>VBZ</td>\n",
       "      <td>WP</td>\n",
       "      <td>what</td>\n",
       "    </tr>\n",
       "    <tr>\n",
       "      <th>15</th>\n",
       "      <td>VB</td>\n",
       "      <td>[what, sprawling]</td>\n",
       "      <td>VBG</td>\n",
       "      <td>WP</td>\n",
       "      <td>what</td>\n",
       "    </tr>\n",
       "    <tr>\n",
       "      <th>16</th>\n",
       "      <td>NN</td>\n",
       "      <td>[what, did]</td>\n",
       "      <td>VBD</td>\n",
       "      <td>WP</td>\n",
       "      <td>what</td>\n",
       "    </tr>\n",
       "    <tr>\n",
       "      <th>17</th>\n",
       "      <td>VBN</td>\n",
       "      <td>[how, many]</td>\n",
       "      <td>JJ</td>\n",
       "      <td>WRB</td>\n",
       "      <td>how</td>\n",
       "    </tr>\n",
       "    <tr>\n",
       "      <th>18</th>\n",
       "      <td>VBZ</td>\n",
       "      <td>[what, is]</td>\n",
       "      <td>VBZ</td>\n",
       "      <td>WP</td>\n",
       "      <td>what</td>\n",
       "    </tr>\n",
       "    <tr>\n",
       "      <th>19</th>\n",
       "      <td>VBZ</td>\n",
       "      <td>[what, is]</td>\n",
       "      <td>VBZ</td>\n",
       "      <td>WP</td>\n",
       "      <td>what</td>\n",
       "    </tr>\n",
       "  </tbody>\n",
       "</table>\n",
       "</div>"
      ],
      "text/plain": [
       "   root_token            wh_bi_gram wh_nbor_pos wh_pos wh_word\n",
       "0          VB            [how, did]         VBD    WRB     how\n",
       "1         VBD          [what, film]          NN    WDT    what\n",
       "2          VB            [how, can]          MD    WRB     how\n",
       "3         VBP          [what, fowl]          NN    WDT    what\n",
       "4         VBZ            [what, is]         VBZ     WP    what\n",
       "5         VBD  [what, contemptible]          JJ     WP    what\n",
       "6         VBD          [what, team]          NN    WDT    what\n",
       "7         VBZ            [what, is]         VBZ     WP    what\n",
       "8         VBP           [what, are]         VBP     WP    what\n",
       "9          VB                    []                           \n",
       "10        VBP  [when, wa, wa, ozzy]         VBP    WDT      wa\n",
       "11         RB             [why, do]         VBP    WRB     why\n",
       "12         WP             [who, wa]          IN     WP     who\n",
       "13        VBD         [who, killed]         VBD     WP     who\n",
       "14        VBN            [what, is]         VBZ     WP    what\n",
       "15         VB     [what, sprawling]         VBG     WP    what\n",
       "16         NN           [what, did]         VBD     WP    what\n",
       "17        VBN           [how, many]          JJ    WRB     how\n",
       "18        VBZ            [what, is]         VBZ     WP    what\n",
       "19        VBZ            [what, is]         VBZ     WP    what"
      ]
     },
     "execution_count": 96,
     "metadata": {},
     "output_type": "execute_result"
    }
   ],
   "source": [
    "pos_list = []\n",
    "def pos_question(row):\n",
    "    \n",
    "    # get linguistic annotations of question\n",
    "    en_row = nlp(u''+ row)\n",
    "    sent_list = list(en_row.sents)\n",
    "    wh_bi_gram = []\n",
    "    root_token = \"\"\n",
    "    wh_pos = \"\"\n",
    "    wh_nbor_pos = \"\"\n",
    "    wh_word = \"\"\n",
    "    \n",
    "    for token in sent_list[0]:\n",
    "        if token.tag_ == \"WDT\" or token.tag_ == \"WP\" or token.tag_ == \"WP$\" or token.tag_ == \"WRB\":\n",
    "            wh_pos = token.tag_\n",
    "            wh_word = token.text\n",
    "            wh_bi_gram.append(token.text)\n",
    "            try:\n",
    "                wh_bi_gram.append(str(en_row[token.i + 1]))\n",
    "                wh_nbor_pos = en_row[token.i + 1].tag_\n",
    "            except IndexError:\n",
    "                wh_bi_gram.append(str(en_row[token.i]))\n",
    "                wh_nbor_pos = en_row[token.i].tag_\n",
    "        if token.dep_ == \"ROOT\":\n",
    "            root_token = token.tag_\n",
    "    pos_list.append({'wh_pos':wh_pos, 'wh_word': wh_word, 'wh_bi_gram':wh_bi_gram,\n",
    "                         'wh_nbor_pos':wh_nbor_pos, 'root_token':root_token})\n",
    "\n",
    "#apply function\n",
    "raw_file['clean_ques'].apply(pos_question)\n",
    "\n",
    "#convert list to dataframe\n",
    "pos_df = pd.DataFrame(pos_list)\n",
    "pos_df.head(20)"
   ]
  },
  {
   "cell_type": "code",
   "execution_count": null,
   "metadata": {},
   "outputs": [],
   "source": []
  }
 ],
 "metadata": {
  "kernelspec": {
   "display_name": "Python 3",
   "language": "python",
   "name": "python3"
  },
  "language_info": {
   "codemirror_mode": {
    "name": "ipython",
    "version": 3
   },
   "file_extension": ".py",
   "mimetype": "text/x-python",
   "name": "python",
   "nbconvert_exporter": "python",
   "pygments_lexer": "ipython3",
   "version": "3.6.5"
  }
 },
 "nbformat": 4,
 "nbformat_minor": 2
}
