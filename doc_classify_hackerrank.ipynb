{
 "cells": [
  {
   "cell_type": "code",
   "execution_count": 93,
   "metadata": {},
   "outputs": [],
   "source": [
    "import pandas as pd\n",
    "import numpy as np\n",
    "from sklearn.feature_extraction.text import CountVectorizer\n",
    "from sklearn.feature_extraction.text import TfidfVectorizer\n",
    "from sklearn.model_selection import train_test_split\n",
    "from sklearn.decomposition import LatentDirichletAllocation\n",
    "from sklearn import linear_model, naive_bayes, svm\n",
    "from sklearn.metrics import accuracy_score\n",
    "\n",
    "from keras.preprocessing import text, sequence\n",
    "from keras import layers, models, optimizers\n",
    "from keras.utils import to_categorical"
   ]
  },
  {
   "cell_type": "code",
   "execution_count": 20,
   "metadata": {},
   "outputs": [],
   "source": [
    "## splitting data into text and labels\n",
    "\n",
    "raw_data = pd.read_table(\"trainingdata.txt\")\n",
    "raw_data.columns = ['text']\n",
    "raw_data['labels'] = raw_data['text'].apply(lambda x: int(x[0]))\n",
    "raw_data['text'] = raw_data['text'].apply(lambda x: x[1:])\n"
   ]
  },
  {
   "cell_type": "code",
   "execution_count": 21,
   "metadata": {},
   "outputs": [
    {
     "data": {
      "text/html": [
       "<div>\n",
       "<style scoped>\n",
       "    .dataframe tbody tr th:only-of-type {\n",
       "        vertical-align: middle;\n",
       "    }\n",
       "\n",
       "    .dataframe tbody tr th {\n",
       "        vertical-align: top;\n",
       "    }\n",
       "\n",
       "    .dataframe thead th {\n",
       "        text-align: right;\n",
       "    }\n",
       "</style>\n",
       "<table border=\"1\" class=\"dataframe\">\n",
       "  <thead>\n",
       "    <tr style=\"text-align: right;\">\n",
       "      <th></th>\n",
       "      <th>text</th>\n",
       "      <th>labels</th>\n",
       "    </tr>\n",
       "  </thead>\n",
       "  <tbody>\n",
       "    <tr>\n",
       "      <th>0</th>\n",
       "      <td>champion products ch approves stock split cha...</td>\n",
       "      <td>1</td>\n",
       "    </tr>\n",
       "    <tr>\n",
       "      <th>1</th>\n",
       "      <td>computer terminal systems cpml completes sale...</td>\n",
       "      <td>2</td>\n",
       "    </tr>\n",
       "    <tr>\n",
       "      <th>2</th>\n",
       "      <td>cobanco inc cbco year net shr cts vs dlrs net...</td>\n",
       "      <td>1</td>\n",
       "    </tr>\n",
       "    <tr>\n",
       "      <th>3</th>\n",
       "      <td>am international inc am nd qtr jan oper shr l...</td>\n",
       "      <td>1</td>\n",
       "    </tr>\n",
       "    <tr>\n",
       "      <th>4</th>\n",
       "      <td>brown forman inc bfd th qtr net shr one dlr v...</td>\n",
       "      <td>1</td>\n",
       "    </tr>\n",
       "  </tbody>\n",
       "</table>\n",
       "</div>"
      ],
      "text/plain": [
       "                                                text  labels\n",
       "0   champion products ch approves stock split cha...       1\n",
       "1   computer terminal systems cpml completes sale...       2\n",
       "2   cobanco inc cbco year net shr cts vs dlrs net...       1\n",
       "3   am international inc am nd qtr jan oper shr l...       1\n",
       "4   brown forman inc bfd th qtr net shr one dlr v...       1"
      ]
     },
     "execution_count": 21,
     "metadata": {},
     "output_type": "execute_result"
    }
   ],
   "source": [
    "raw_data.head()"
   ]
  },
  {
   "cell_type": "code",
   "execution_count": 24,
   "metadata": {},
   "outputs": [
    {
     "data": {
      "text/plain": [
       "1    2840\n",
       "2    1596\n",
       "6     253\n",
       "3     251\n",
       "8     206\n",
       "7     190\n",
       "4     108\n",
       "5      41\n",
       "Name: labels, dtype: int64"
      ]
     },
     "execution_count": 24,
     "metadata": {},
     "output_type": "execute_result"
    }
   ],
   "source": [
    "raw_data['labels'].value_counts()"
   ]
  },
  {
   "cell_type": "code",
   "execution_count": 26,
   "metadata": {},
   "outputs": [
    {
     "data": {
      "text/plain": [
       "Text(0.5,1,'Distribution of label class in raw dataset')"
      ]
     },
     "execution_count": 26,
     "metadata": {},
     "output_type": "execute_result"
    },
    {
     "data": {
      "image/png": "[encoded data removed]",
      "text/plain": [
       "<matplotlib.figure.Figure at 0x10abf0a90>"
      ]
     },
     "metadata": {},
     "output_type": "display_data"
    }
   ],
   "source": [
    "##distribution of labels\n",
    "import matplotlib.pyplot as plt\n",
    "import seaborn as sns\n",
    "sns.set_color_codes()\n",
    "\n",
    "fig, ax1 = plt.subplots(1,1, figsize = (18,6))\n",
    "\n",
    "sns.countplot('labels', data = raw_data,palette=\"Set2\", ax = ax1)\n",
    "ax1.set_xlabel(\"labels\", size = 15)\n",
    "plt.title(\"Distribution of label class in raw dataset\", size = 18)"
   ]
  },
  {
   "cell_type": "code",
   "execution_count": 41,
   "metadata": {},
   "outputs": [],
   "source": [
    "## stratified sampling to split into train and test\n",
    "\n",
    "X_train, X_test, y_train, y_test = train_test_split(raw_data['text'], raw_data['labels'],\n",
    "                                                    test_size=0.20, random_state=123, stratify = raw_data['labels'])"
   ]
  },
  {
   "cell_type": "markdown",
   "metadata": {},
   "source": [
    "##### Count features"
   ]
  },
  {
   "cell_type": "code",
   "execution_count": 62,
   "metadata": {},
   "outputs": [],
   "source": [
    "# create a count vectorizer object \n",
    "count_vect = CountVectorizer(analyzer='word', token_pattern=r'\\w{1,}')\n",
    "count_vect.fit(raw_data['text'])\n",
    "X_train_count = count_vect.transform(X_train)\n",
    "X_test_count = count_vect.transform(X_test)"
   ]
  },
  {
   "cell_type": "markdown",
   "metadata": {},
   "source": [
    "##### tf-idf n gram features"
   ]
  },
  {
   "cell_type": "code",
   "execution_count": 63,
   "metadata": {},
   "outputs": [],
   "source": [
    "### create word level idf matrix\n",
    "\n",
    "tfidf_vect = TfidfVectorizer(analyzer='word', stop_words ='english', token_pattern=r'\\w{1,}', max_features=5000)\n",
    "tfidf_vect.fit(raw_data['text'])\n",
    "X_train_tfidf = tfidf_vect.transform(X_train)\n",
    "X_test_tfidf = tfidf_vect.transform(X_test)\n",
    "\n",
    "# ngram level tf-idf \n",
    "tfidf_vect_ngram = TfidfVectorizer(analyzer='word',stop_words ='english', token_pattern=r'\\w{1,}',\n",
    "                                   ngram_range=(2,3), max_features=5000)\n",
    "tfidf_vect_ngram.fit(raw_data['text'])\n",
    "X_train_tfidf_ngram =  tfidf_vect_ngram.transform(X_train)\n",
    "X_test_tfidf_ngram =  tfidf_vect_ngram.transform(X_test)"
   ]
  },
  {
   "cell_type": "markdown",
   "metadata": {},
   "source": [
    "##### topics from lda as features"
   ]
  },
  {
   "cell_type": "code",
   "execution_count": 64,
   "metadata": {},
   "outputs": [],
   "source": [
    "# train a LDA Model\n",
    "lda_model = LatentDirichletAllocation(n_components=20, learning_method='online', max_iter=20)\n",
    "X_topics = lda_model.fit_transform(X_train_count)\n",
    "topic_word = lda_model.components_ \n",
    "vocab = count_vect.get_feature_names()"
   ]
  },
  {
   "cell_type": "markdown",
   "metadata": {},
   "source": [
    "### Modeling"
   ]
  },
  {
   "cell_type": "code",
   "execution_count": 104,
   "metadata": {},
   "outputs": [],
   "source": [
    "def train_model(classifier, feature_vector_train, labels, feature_vector_test, isNeuralNet = False):\n",
    "    \n",
    "    if isNeuralNet:\n",
    "        y_cat = to_categorical(labels)\n",
    "        classifier.fit(feature_vector_train,y_cat)\n",
    "        predictions = classifier.predict(feature_vector_test)\n",
    "        predictions = predictions.argmax(axis=-1)\n",
    "    else:\n",
    "        # fit the training dataset on the classifier\n",
    "        classifier.fit(feature_vector_train, labels)\n",
    "        # predict the labels on validation dataset\n",
    "        predictions = classifier.predict(feature_vector_test)\n",
    "    \n",
    "    return accuracy_score(predictions, y_test.values)"
   ]
  },
  {
   "cell_type": "markdown",
   "metadata": {},
   "source": [
    "#### Naive Bayes"
   ]
  },
  {
   "cell_type": "code",
   "execution_count": 76,
   "metadata": {},
   "outputs": [
    {
     "name": "stdout",
     "output_type": "stream",
     "text": [
      "NB, Count Vectors:  0.930720145852\n",
      "NB, WordLevel TF-IDF:  0.919781221513\n",
      "NB, N-Gram Vectors:  0.888787602552\n"
     ]
    }
   ],
   "source": [
    "# Naive Bayes on Count Vectors\n",
    "accuracy = train_model(naive_bayes.MultinomialNB(), X_train_count, y_train.values, X_test_count)\n",
    "print(\"NB, Count Vectors: \", accuracy)\n",
    "\n",
    "# Naive Bayes on Word Level TF IDF Vectors\n",
    "accuracy = train_model(naive_bayes.MultinomialNB(), X_train_tfidf, y_train.values, X_test_tfidf)\n",
    "print(\"NB, WordLevel TF-IDF: \", accuracy)\n",
    "\n",
    "# Naive Bayes on Ngram Level TF IDF Vectors\n",
    "accuracy = train_model(naive_bayes.MultinomialNB(), X_train_tfidf_ngram, y_train.values, X_test_tfidf_ngram)\n",
    "print(\"NB, N-Gram Vectors: \", accuracy)"
   ]
  },
  {
   "cell_type": "markdown",
   "metadata": {},
   "source": [
    "##### Logistic Regression"
   ]
  },
  {
   "cell_type": "code",
   "execution_count": 77,
   "metadata": {},
   "outputs": [
    {
     "name": "stdout",
     "output_type": "stream",
     "text": [
      "Logistic Regression, Count Vectors:  0.966271649954\n",
      "Logistic Regression, WordLevel TF-IDF:  0.947128532361\n",
      "Logistic Regression, N-Gram Vectors:  0.910665451231\n"
     ]
    }
   ],
   "source": [
    "# logistic regression on Count Vectors\n",
    "accuracy = train_model(linear_model.LogisticRegression(), X_train_count, y_train.values, X_test_count)\n",
    "print(\"Logistic Regression, Count Vectors: \", accuracy)\n",
    "\n",
    "# logistic regression on Word Level TF IDF Vectors\n",
    "accuracy = train_model(linear_model.LogisticRegression(), X_train_tfidf, y_train.values, X_test_tfidf)\n",
    "print(\"Logistic Regression, WordLevel TF-IDF: \", accuracy)\n",
    "\n",
    "# logistic regression on Ngram Level TF IDF Vectors\n",
    "accuracy = train_model(linear_model.LogisticRegression(), X_train_tfidf_ngram, y_train.values, X_test_tfidf_ngram)\n",
    "print(\"Logistic Regression, N-Gram Vectors: \", accuracy)"
   ]
  },
  {
   "cell_type": "markdown",
   "metadata": {},
   "source": [
    "##### SVM"
   ]
  },
  {
   "cell_type": "code",
   "execution_count": 79,
   "metadata": {},
   "outputs": [
    {
     "name": "stdout",
     "output_type": "stream",
     "text": [
      "SVM, Count Vectors:  0.718322698268\n",
      "SVM, WordLevel TF-IDF:  0.517775752051\n",
      "SVM, N-Gram Vectors:  0.517775752051\n"
     ]
    }
   ],
   "source": [
    "# svm on Count Vectors\n",
    "accuracy = train_model(svm.SVC(), X_train_count, y_train.values, X_test_count)\n",
    "print(\"SVM, Count Vectors: \", accuracy)\n",
    "\n",
    "# svm on Word Level TF IDF Vectors\n",
    "accuracy = train_model(svm.SVC(), X_train_tfidf, y_train.values, X_test_tfidf)\n",
    "print(\"SVM, WordLevel TF-IDF: \", accuracy)\n",
    "\n",
    "# svm on Ngram Level TF IDF Vectors\n",
    "accuracy = train_model(svm.SVC(), X_train_tfidf_ngram, y_train.values, X_test_tfidf_ngram)\n",
    "print(\"SVM, N-Gram Vectors: \", accuracy)"
   ]
  },
  {
   "cell_type": "markdown",
   "metadata": {},
   "source": [
    "##### Shallow Neural Network"
   ]
  },
  {
   "cell_type": "code",
   "execution_count": 100,
   "metadata": {},
   "outputs": [],
   "source": [
    "def create_model_architecture(input_size):\n",
    "    # create input layer \n",
    "    input_layer = layers.Input((input_size, ), sparse=True)\n",
    "    \n",
    "    # create hidden layer\n",
    "    hidden_layer = layers.Dense(100, activation=\"relu\")(input_layer)\n",
    "    \n",
    "    # create output layer\n",
    "    output_layer = layers.Dense(9, activation=\"softmax\")(hidden_layer)\n",
    "\n",
    "    classifier = models.Model(inputs = input_layer, outputs = output_layer)\n",
    "    classifier.compile(optimizer=optimizers.Adam(), loss='categorical_crossentropy')\n",
    "    return classifier "
   ]
  },
  {
   "cell_type": "code",
   "execution_count": 105,
   "metadata": {},
   "outputs": [
    {
     "name": "stdout",
     "output_type": "stream",
     "text": [
      "Epoch 1/1\n",
      "4388/4388 [==============================] - 5s 1ms/step - loss: 0.5012\n",
      "NN, Count Vectors 0.968094804011\n",
      "Epoch 1/1\n",
      "4388/4388 [==============================] - 1s 342us/step - loss: 1.1232\n",
      "NN, WordLevel TF-IDF vectors:  0.892433910665\n",
      "Epoch 1/1\n",
      "4388/4388 [==============================] - 2s 342us/step - loss: 1.1328\n",
      "NN, Ngram Level TF IDF Vectors: 0.867821330902\n"
     ]
    }
   ],
   "source": [
    "# NN on count vectors\n",
    "\n",
    "classifier = create_model_architecture(X_train_count.shape[1])\n",
    "accuracy = train_model(classifier, X_train_count, y_train.values, X_test_count, isNeuralNet=True)\n",
    "print(\"NN, Count Vectors\",  accuracy)\n",
    "\n",
    "## NN on word level tf-idf vectors\n",
    "\n",
    "classifier = create_model_architecture(X_train_tfidf.shape[1])\n",
    "accuracy = train_model(classifier, X_train_tfidf, y_train.values, X_test_tfidf,isNeuralNet=True)\n",
    "print(\"NN, WordLevel TF-IDF vectors: \", accuracy)\n",
    "\n",
    "## NN on n-gram level tf-idf vectors\n",
    "\n",
    "classifier = create_model_architecture(X_train_tfidf_ngram.shape[1])\n",
    "accuracy = train_model(classifier, X_train_tfidf_ngram, y_train.values, X_test_tfidf_ngram,isNeuralNet=True)\n",
    "print(\"NN, Ngram Level TF IDF Vectors:\",  accuracy)"
   ]
  },
  {
   "cell_type": "markdown",
   "metadata": {},
   "source": [
    "##### Convolutional Neural Networks"
   ]
  },
  {
   "cell_type": "code",
   "execution_count": 109,
   "metadata": {},
   "outputs": [],
   "source": [
    "# load the pre-trained word-embedding vectors \n",
    "embeddings_index = {}\n",
    "for i, line in enumerate(open('glove.6B.50d.txt')):\n",
    "    values = line.split()\n",
    "    embeddings_index[values[0]] = np.asarray(values[1:], dtype='float32')\n",
    "\n",
    "# create a tokenizer \n",
    "token = text.Tokenizer()\n",
    "token.fit_on_texts(raw_data['text'])\n",
    "word_index = token.word_index\n",
    "\n",
    "# convert text to sequence of tokens and pad them to ensure equal length vectors \n",
    "train_seq_x = sequence.pad_sequences(token.texts_to_sequences(X_train), maxlen=70)\n",
    "test_seq_x = sequence.pad_sequences(token.texts_to_sequences(X_test), maxlen=70)\n",
    "\n",
    "# create token-embedding mapping\n",
    "embedding_matrix = np.zeros((len(word_index) + 1, 50))\n",
    "for word, i in word_index.items():\n",
    "    embedding_vector = embeddings_index.get(word)\n",
    "    if embedding_vector is not None:\n",
    "        embedding_matrix[i] = embedding_vector"
   ]
  },
  {
   "cell_type": "code",
   "execution_count": 115,
   "metadata": {},
   "outputs": [
    {
     "name": "stdout",
     "output_type": "stream",
     "text": [
      "Epoch 1/1\n",
      "4388/4388 [==============================] - 2s 570us/step - loss: 1.1050\n",
      "CNN, Word Embeddings 0.781221513218\n"
     ]
    }
   ],
   "source": [
    "def create_cnn():\n",
    "    # Add an Input Layer\n",
    "    input_layer = layers.Input((70, ))\n",
    "\n",
    "    # Add the word embedding Layer\n",
    "    embedding_layer = layers.Embedding(len(word_index) + 1, 50, weights=[embedding_matrix],\n",
    "                                       trainable=False)(input_layer)\n",
    "    embedding_layer = layers.SpatialDropout1D(0.3)(embedding_layer)\n",
    "\n",
    "    # Add the convolutional Layer\n",
    "    conv_layer = layers.Convolution1D(100, 3, activation=\"relu\")(embedding_layer)\n",
    "\n",
    "    # Add the pooling Layer\n",
    "    pooling_layer = layers.GlobalMaxPool1D()(conv_layer)\n",
    "\n",
    "    # Add the output Layers\n",
    "    output_layer1 = layers.Dense(50, activation=\"relu\")(pooling_layer)\n",
    "    output_layer1 = layers.Dropout(0.25)(output_layer1)\n",
    "    output_layer2 = layers.Dense(9, activation=\"softmax\")(output_layer1)\n",
    "\n",
    "    # Compile the model\n",
    "    model = models.Model(inputs=input_layer, outputs=output_layer2)\n",
    "    model.compile(optimizer=optimizers.Adam(), loss='categorical_crossentropy')\n",
    "    \n",
    "    return model\n",
    "\n",
    "classifier = create_cnn()\n",
    "accuracy = train_model(classifier, train_seq_x, y_train, test_seq_x, isNeuralNet=True)\n",
    "print(\"CNN, Word Embeddings\",  accuracy)"
   ]
  },
  {
   "cell_type": "code",
   "execution_count": null,
   "metadata": {},
   "outputs": [],
   "source": []
  },
  {
   "cell_type": "code",
   "execution_count": 80,
   "metadata": {},
   "outputs": [
    {
     "data": {
      "text/plain": [
       "(4388, 19982)"
      ]
     },
     "execution_count": 80,
     "metadata": {},
     "output_type": "execute_result"
    }
   ],
   "source": [
    "X_train_count.shape"
   ]
  },
  {
   "cell_type": "code",
   "execution_count": 82,
   "metadata": {},
   "outputs": [
    {
     "data": {
      "text/plain": [
       "(4388, 5000)"
      ]
     },
     "execution_count": 82,
     "metadata": {},
     "output_type": "execute_result"
    }
   ],
   "source": [
    "X_train_tfidf.shape"
   ]
  },
  {
   "cell_type": "code",
   "execution_count": 83,
   "metadata": {},
   "outputs": [
    {
     "data": {
      "text/plain": [
       "scipy.sparse.csr.csr_matrix"
      ]
     },
     "execution_count": 83,
     "metadata": {},
     "output_type": "execute_result"
    }
   ],
   "source": [
    "type(X_train_count)"
   ]
  },
  {
   "cell_type": "code",
   "execution_count": 84,
   "metadata": {},
   "outputs": [
    {
     "data": {
      "text/plain": [
       "(4388, 24982)"
      ]
     },
     "execution_count": 84,
     "metadata": {},
     "output_type": "execute_result"
    }
   ],
   "source": [
    "from scipy.sparse import hstack\n",
    "\n",
    "x = hstack([X_train_count,X_train_tfidf])\n",
    "x.shape\n"
   ]
  },
  {
   "cell_type": "code",
   "execution_count": null,
   "metadata": {},
   "outputs": [],
   "source": []
  }
 ],
 "metadata": {
  "kernelspec": {
   "display_name": "Python 3",
   "language": "python",
   "name": "python3"
  },
  "language_info": {
   "codemirror_mode": {
    "name": "ipython",
    "version": 3
   },
   "file_extension": ".py",
   "mimetype": "text/x-python",
   "name": "python",
   "nbconvert_exporter": "python",
   "pygments_lexer": "ipython3",
   "version": "3.6.5"
  }
 },
 "nbformat": 4,
 "nbformat_minor": 2
}
